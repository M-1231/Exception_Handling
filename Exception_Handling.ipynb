{
  "nbformat": 4,
  "nbformat_minor": 0,
  "metadata": {
    "colab": {
      "provenance": []
    },
    "kernelspec": {
      "name": "python3",
      "display_name": "Python 3"
    },
    "language_info": {
      "name": "python"
    }
  },
  "cells": [
    {
      "cell_type": "markdown",
      "source": [
        "Q.1 An exception in Python is a type of error that occurs when a syntactically correct Python code raises an error during execution. For example, trying to divide a number by zero or accessing an invalid index of a list will cause an exception. Exceptions can be handled using try-except-finally blocks or other error-handling techniques, to prevent the program from crashing or to perform some cleanup actions.\n",
        "\n",
        "A syntax error in Python is a type of error that occurs when the Python interpreter encounters an incorrect statement in the code. For example, misspelling a keyword, forgetting a colon, or using an extra parenthesis will cause a syntax error. Syntax errors prevent the program from running at all, as the interpreter cannot parse the code. Syntax errors can be fixed by correcting the grammar or spelling of the code.\n",
        "\n",
        "The main difference between exceptions and syntax errors is that exceptions occur during execution, while syntax errors occur during parsing. Exceptions can be anticipated and handled by the programmer, while syntax errors must be eliminated before the program can run."
      ],
      "metadata": {
        "id": "ovkK4TnJTjTQ"
      }
    },
    {
      "cell_type": "markdown",
      "source": [
        "Q,2 When an exception is not handled in Python, it means that the program does not have a try-except-finally block or other error-handling mechanism to catch and deal with the error. In that case, the program will stop running and display a traceback message that shows the type and source of the exception, as well as the line of code that caused it. This is called an unhandled exception or an uncaught exception. For example"
      ],
      "metadata": {
        "id": "m96rJIeCW-mz"
      }
    },
    {
      "cell_type": "code",
      "source": [
        "    a=int(input())\n",
        "    b=int(input())\n",
        "    c=a+b\n",
        "    print(c)\n",
        "    print(\"this is the addition of two numbers\") # This is ValueError Exception"
      ],
      "metadata": {
        "colab": {
          "base_uri": "https://localhost:8080/",
          "height": 269
        },
        "id": "d80k-jnQaCI1",
        "outputId": "cc1c0c46-6589-4100-a026-d62b67bea659"
      },
      "execution_count": 5,
      "outputs": [
        {
          "name": "stdout",
          "output_type": "stream",
          "text": [
            "4\n",
            "1m\n"
          ]
        },
        {
          "output_type": "error",
          "ename": "ValueError",
          "evalue": "ignored",
          "traceback": [
            "\u001b[0;31m---------------------------------------------------------------------------\u001b[0m",
            "\u001b[0;31mValueError\u001b[0m                                Traceback (most recent call last)",
            "\u001b[0;32m<ipython-input-5-c0023754001c>\u001b[0m in \u001b[0;36m<cell line: 2>\u001b[0;34m()\u001b[0m\n\u001b[1;32m      1\u001b[0m \u001b[0ma\u001b[0m\u001b[0;34m=\u001b[0m\u001b[0mint\u001b[0m\u001b[0;34m(\u001b[0m\u001b[0minput\u001b[0m\u001b[0;34m(\u001b[0m\u001b[0;34m)\u001b[0m\u001b[0;34m)\u001b[0m\u001b[0;34m\u001b[0m\u001b[0;34m\u001b[0m\u001b[0m\n\u001b[0;32m----> 2\u001b[0;31m \u001b[0mb\u001b[0m\u001b[0;34m=\u001b[0m\u001b[0mint\u001b[0m\u001b[0;34m(\u001b[0m\u001b[0minput\u001b[0m\u001b[0;34m(\u001b[0m\u001b[0;34m)\u001b[0m\u001b[0;34m)\u001b[0m\u001b[0;34m\u001b[0m\u001b[0;34m\u001b[0m\u001b[0m\n\u001b[0m\u001b[1;32m      3\u001b[0m \u001b[0mc\u001b[0m\u001b[0;34m=\u001b[0m\u001b[0ma\u001b[0m\u001b[0;34m+\u001b[0m\u001b[0mb\u001b[0m\u001b[0;34m\u001b[0m\u001b[0;34m\u001b[0m\u001b[0m\n\u001b[1;32m      4\u001b[0m \u001b[0mprint\u001b[0m\u001b[0;34m(\u001b[0m\u001b[0mc\u001b[0m\u001b[0;34m)\u001b[0m\u001b[0;34m\u001b[0m\u001b[0;34m\u001b[0m\u001b[0m\n\u001b[1;32m      5\u001b[0m \u001b[0mprint\u001b[0m\u001b[0;34m(\u001b[0m\u001b[0;34m\"this is the addition of two numbers\"\u001b[0m\u001b[0;34m)\u001b[0m \u001b[0;31m# This is ValueError Exception\u001b[0m\u001b[0;34m\u001b[0m\u001b[0;34m\u001b[0m\u001b[0m\n",
            "\u001b[0;31mValueError\u001b[0m: invalid literal for int() with base 10: '1m'"
          ]
        }
      ]
    },
    {
      "cell_type": "markdown",
      "source": [
        "Q.3 The Python statements that are used to catch and handle exceptions are the try, except, and finally statements. They form a try-except-finally block that allows the program to execute some code, handle any errors that may occur, and perform some cleanup actions.The try statement defines a block of code that may raise an exception. The except statement defines a block of code that will handle a specific type of exception.  For example:\n"
      ],
      "metadata": {
        "id": "1LAu-2R4afGP"
      }
    },
    {
      "cell_type": "code",
      "source": [
        "try:\n",
        "    a=int(input())\n",
        "    b=int(input())\n",
        "    c=a+b\n",
        "    print(c)\n",
        "except ValueError:\n",
        "    print(\"this is the addition of two numbers\")#using exception handling it does not disturb the execution of code other than the error.\n"
      ],
      "metadata": {
        "colab": {
          "base_uri": "https://localhost:8080/"
        },
        "id": "SiVbEbkKwlvw",
        "outputId": "3b732291-9556-45ba-f9cb-d3a3f91d5f0d"
      },
      "execution_count": 6,
      "outputs": [
        {
          "output_type": "stream",
          "name": "stdout",
          "text": [
            "2\n",
            "M\n",
            "this is the addition of two numbers\n"
          ]
        }
      ]
    },
    {
      "cell_type": "markdown",
      "source": [
        "Q.4 a. Try and else\n",
        "\n",
        "The try statement defines a block of code that may raise an exception. The else statement defines a block of code that will execute if no exception occurs in the try block."
      ],
      "metadata": {
        "id": "R4qyDSh7crmx"
      }
    },
    {
      "cell_type": "code",
      "source": [
        "try:\n",
        "    num1=int(input())\n",
        "    num2=int(input())\n",
        "    result=num1/num2\n",
        "except ZeroDivisionError:\n",
        "        print(\"Division by zero is not allowed\")\n",
        "else:\n",
        "        print(\"The result is\", result)# the else block executes successfully if there is no exception.\n",
        "\n"
      ],
      "metadata": {
        "colab": {
          "base_uri": "https://localhost:8080/"
        },
        "id": "VxxnVktFzFSz",
        "outputId": "4c56d5b6-0221-431b-c8bf-774977dc930b"
      },
      "execution_count": null,
      "outputs": [
        {
          "output_type": "stream",
          "name": "stdout",
          "text": [
            "85\n",
            "5\n",
            "The result is 17.0\n"
          ]
        }
      ]
    },
    {
      "cell_type": "markdown",
      "source": [
        "b. Finally\n",
        "\n",
        "The finally statement defines a block of code that will always execute, regardless of whether an exception occurs or not."
      ],
      "metadata": {
        "id": "__m-QV-bc-iO"
      }
    },
    {
      "cell_type": "code",
      "source": [
        "def divide(x,y):\n",
        "  try:\n",
        "      result=x//y\n",
        "  except ZeroDivisionError:\n",
        "      print(\"cannot divide by zero\")\n",
        "  finally:\n",
        "      print(\"This is always executed\")"
      ],
      "metadata": {
        "id": "QT_3IZty7V_9"
      },
      "execution_count": null,
      "outputs": []
    },
    {
      "cell_type": "code",
      "source": [
        "divide(5,0)"
      ],
      "metadata": {
        "colab": {
          "base_uri": "https://localhost:8080/"
        },
        "id": "RYTOZpHC7tL6",
        "outputId": "ec921aed-c98b-428e-8d62-e5382dee43fb"
      },
      "execution_count": null,
      "outputs": [
        {
          "output_type": "stream",
          "name": "stdout",
          "text": [
            "cannot divide by zero\n",
            "This is always executed\n"
          ]
        }
      ]
    },
    {
      "cell_type": "markdown",
      "source": [
        "c. raise\n",
        "\n",
        "The raise statement allows the programmer to manually raise an exception, either by using a built-in exception class or by defining a custom exception class."
      ],
      "metadata": {
        "id": "-W-T34BldQjz"
      }
    },
    {
      "cell_type": "code",
      "source": [
        "try:\n",
        "      age=int(input())\n",
        "      if age<0:\n",
        "         raise Exception(\"age cannot be negative\")\n",
        "      else:\n",
        "         print(\"age is\",age)\n",
        "except Exception as e:\n",
        "         print(e)"
      ],
      "metadata": {
        "id": "I2zCCSEa9SdR",
        "colab": {
          "base_uri": "https://localhost:8080/"
        },
        "outputId": "6081ccdb-aec1-4a74-f293-54a3b657220d"
      },
      "execution_count": null,
      "outputs": [
        {
          "output_type": "stream",
          "name": "stdout",
          "text": [
            "-65\n",
            "age cannot be negative\n"
          ]
        }
      ]
    },
    {
      "cell_type": "markdown",
      "source": [
        "Q.5 Custom exceptions in Python are user-defined exception classes that inherit from the built-in Exception class or its subclasses. They are used to handle specific errors or situations that are not covered by the standard exceptions, or to provide more meaningful information or functionality for the error handling.\n",
        "\n",
        "We need custom exceptions in Python to make our code more robust, modular, and readable. Custom exceptions can help us to:\n",
        "\n",
        "1.Catch and handle errors that are specific to our application logic or domain.\n",
        "\n",
        "2.Provide more descriptive and relevant error messages for the users or developers.\n",
        "\n",
        "3.Customize the behavior or attributes of the exception objects, such as adding additional data or methods.\n",
        "\n",
        "4.Organize and group our exceptions into a hierarchy based on their types or categories.\n",
        "\n",
        "To create a custom exception in Python, we need to define a class that inherits from the Exception class or one of its subclasses. We can also override the __init__ and __str__ methods to customize the initialization and representation of the exception object."
      ],
      "metadata": {
        "id": "dUlKbOdtdcKZ"
      }
    },
    {
      "cell_type": "code",
      "source": [
        "class invalid_voting_age(Exception):\n",
        "   pass\n",
        "\n",
        "number =18\n",
        "try:\n",
        "    num=int(input())\n",
        "    if num<number:\n",
        "      raise invalid_voting_age\n",
        "    else:\n",
        "      print(\"Eligible to vote\")\n",
        "except invalid_voting_age:\n",
        "      print(\"Invalid age to vote\")\n",
        "\n"
      ],
      "metadata": {
        "colab": {
          "base_uri": "https://localhost:8080/"
        },
        "id": "rou9lVwyRgOq",
        "outputId": "75e4dfd8-b1bd-4d96-c488-94d7519821fa"
      },
      "execution_count": null,
      "outputs": [
        {
          "output_type": "stream",
          "name": "stdout",
          "text": [
            "7\n",
            "Invalid age to vote\n"
          ]
        }
      ]
    },
    {
      "cell_type": "markdown",
      "source": [
        "Q.6 To create a custom exception class in Python, you need to define a class that inherits from the built-in Exception class or one of its subclasses."
      ],
      "metadata": {
        "id": "ksfIBMeMeZlY"
      }
    },
    {
      "cell_type": "code",
      "source": [
        "class Neg_Number(Exception):# custom exception class\n",
        "  pass\n",
        "\n",
        "try:\n",
        "    x=float(input())\n",
        "    y=square_root(x)\n",
        "    def square_root(x):\n",
        "      if x<0:\n",
        "        raise Neg_Number(x)\n",
        "      else:\n",
        "          return x**0.5\n",
        "    print(f\"The square root of {x} is\" , y)\n",
        "except Neg_Number as e:\n",
        "    print(e , \"is a negative number\")"
      ],
      "metadata": {
        "colab": {
          "base_uri": "https://localhost:8080/"
        },
        "id": "D8FDyUL-XRYj",
        "outputId": "88850430-6d39-4455-d132-c3ff5fae2bdf"
      },
      "execution_count": null,
      "outputs": [
        {
          "output_type": "stream",
          "name": "stdout",
          "text": [
            "45\n",
            "The square root of 45.0 is 6.708203932499369\n"
          ]
        }
      ]
    }
  ]
}